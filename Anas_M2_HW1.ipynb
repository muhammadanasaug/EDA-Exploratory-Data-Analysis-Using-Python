{
 "cells": [
  {
   "cell_type": "code",
   "execution_count": 1,
   "metadata": {},
   "outputs": [],
   "source": [
    "import pandas as pd\n",
    "import numpy as np\n",
    "from matplotlib import pyplot as plt\n",
    "import seaborn as sns"
   ]
  },
  {
   "cell_type": "code",
   "execution_count": 2,
   "metadata": {},
   "outputs": [
    {
     "data": {
      "text/html": [
       "<div>\n",
       "<style scoped>\n",
       "    .dataframe tbody tr th:only-of-type {\n",
       "        vertical-align: middle;\n",
       "    }\n",
       "\n",
       "    .dataframe tbody tr th {\n",
       "        vertical-align: top;\n",
       "    }\n",
       "\n",
       "    .dataframe thead th {\n",
       "        text-align: right;\n",
       "    }\n",
       "</style>\n",
       "<table border=\"1\" class=\"dataframe\">\n",
       "  <thead>\n",
       "    <tr style=\"text-align: right;\">\n",
       "      <th></th>\n",
       "      <th>ConsecutiveWins</th>\n",
       "      <th>Season</th>\n",
       "      <th>Opposition_Others</th>\n",
       "      <th>Country</th>\n",
       "      <th>Ground</th>\n",
       "      <th>Home_Ground</th>\n",
       "      <th>Day_Night</th>\n",
       "      <th>PitchReport</th>\n",
       "      <th>BattingFirst</th>\n",
       "      <th>Combination Changed</th>\n",
       "      <th>Pak_Win</th>\n",
       "    </tr>\n",
       "  </thead>\n",
       "  <tbody>\n",
       "    <tr>\n",
       "      <th>0</th>\n",
       "      <td>0</td>\n",
       "      <td>Summer</td>\n",
       "      <td>New Zealand</td>\n",
       "      <td>New Zealand</td>\n",
       "      <td>Wellington</td>\n",
       "      <td>No</td>\n",
       "      <td>Yes</td>\n",
       "      <td>bouncy</td>\n",
       "      <td>Yes</td>\n",
       "      <td>No</td>\n",
       "      <td>No</td>\n",
       "    </tr>\n",
       "    <tr>\n",
       "      <th>1</th>\n",
       "      <td>0</td>\n",
       "      <td>Summer</td>\n",
       "      <td>New Zealand</td>\n",
       "      <td>South Africa</td>\n",
       "      <td>Queenstown</td>\n",
       "      <td>No</td>\n",
       "      <td>No</td>\n",
       "      <td>bouncy</td>\n",
       "      <td>Yes</td>\n",
       "      <td>No</td>\n",
       "      <td>No</td>\n",
       "    </tr>\n",
       "    <tr>\n",
       "      <th>2</th>\n",
       "      <td>0</td>\n",
       "      <td>Summer</td>\n",
       "      <td>New Zealand</td>\n",
       "      <td>New Zealand</td>\n",
       "      <td>Christchurch</td>\n",
       "      <td>No</td>\n",
       "      <td>Yes</td>\n",
       "      <td>bouncy</td>\n",
       "      <td>Yes</td>\n",
       "      <td>No</td>\n",
       "      <td>Yes</td>\n",
       "    </tr>\n",
       "    <tr>\n",
       "      <th>3</th>\n",
       "      <td>1</td>\n",
       "      <td>Summer</td>\n",
       "      <td>New Zealand</td>\n",
       "      <td>New Zealand</td>\n",
       "      <td>Napier</td>\n",
       "      <td>No</td>\n",
       "      <td>Yes</td>\n",
       "      <td>bouncy</td>\n",
       "      <td>No</td>\n",
       "      <td>No</td>\n",
       "      <td>Yes</td>\n",
       "    </tr>\n",
       "    <tr>\n",
       "      <th>4</th>\n",
       "      <td>2</td>\n",
       "      <td>Summer</td>\n",
       "      <td>New Zealand</td>\n",
       "      <td>New Zealand</td>\n",
       "      <td>Hamilton</td>\n",
       "      <td>No</td>\n",
       "      <td>Yes</td>\n",
       "      <td>bouncy</td>\n",
       "      <td>Yes</td>\n",
       "      <td>No</td>\n",
       "      <td>Yes</td>\n",
       "    </tr>\n",
       "    <tr>\n",
       "      <th>...</th>\n",
       "      <td>...</td>\n",
       "      <td>...</td>\n",
       "      <td>...</td>\n",
       "      <td>...</td>\n",
       "      <td>...</td>\n",
       "      <td>...</td>\n",
       "      <td>...</td>\n",
       "      <td>...</td>\n",
       "      <td>...</td>\n",
       "      <td>...</td>\n",
       "      <td>...</td>\n",
       "    </tr>\n",
       "    <tr>\n",
       "      <th>90</th>\n",
       "      <td>1</td>\n",
       "      <td>Summer</td>\n",
       "      <td>Sri Lanka</td>\n",
       "      <td>SriLanka</td>\n",
       "      <td>Hambantota</td>\n",
       "      <td>No</td>\n",
       "      <td>Yes</td>\n",
       "      <td>dry</td>\n",
       "      <td>No</td>\n",
       "      <td>NaN</td>\n",
       "      <td>No</td>\n",
       "    </tr>\n",
       "    <tr>\n",
       "      <th>91</th>\n",
       "      <td>0</td>\n",
       "      <td>Summer</td>\n",
       "      <td>Sri Lanka</td>\n",
       "      <td>SriLanka</td>\n",
       "      <td>Dambulla</td>\n",
       "      <td>No</td>\n",
       "      <td>No</td>\n",
       "      <td>dry</td>\n",
       "      <td>Yes</td>\n",
       "      <td>NaN</td>\n",
       "      <td>No</td>\n",
       "    </tr>\n",
       "    <tr>\n",
       "      <th>92</th>\n",
       "      <td>0</td>\n",
       "      <td>Spring</td>\n",
       "      <td>Australia</td>\n",
       "      <td>UAE</td>\n",
       "      <td>Sharjah</td>\n",
       "      <td>No</td>\n",
       "      <td>Yes</td>\n",
       "      <td>dry</td>\n",
       "      <td>No</td>\n",
       "      <td>NaN</td>\n",
       "      <td>No</td>\n",
       "    </tr>\n",
       "    <tr>\n",
       "      <th>93</th>\n",
       "      <td>0</td>\n",
       "      <td>Spring</td>\n",
       "      <td>Australia</td>\n",
       "      <td>UAE</td>\n",
       "      <td>Dubai (DSC)</td>\n",
       "      <td>No</td>\n",
       "      <td>Yes</td>\n",
       "      <td>dry</td>\n",
       "      <td>Yes</td>\n",
       "      <td>NaN</td>\n",
       "      <td>No</td>\n",
       "    </tr>\n",
       "    <tr>\n",
       "      <th>94</th>\n",
       "      <td>0</td>\n",
       "      <td>Spring</td>\n",
       "      <td>Australia</td>\n",
       "      <td>UAE</td>\n",
       "      <td>Abu Dhabi</td>\n",
       "      <td>No</td>\n",
       "      <td>Yes</td>\n",
       "      <td>dry</td>\n",
       "      <td>No</td>\n",
       "      <td>NaN</td>\n",
       "      <td>No</td>\n",
       "    </tr>\n",
       "  </tbody>\n",
       "</table>\n",
       "<p>95 rows × 11 columns</p>\n",
       "</div>"
      ],
      "text/plain": [
       "   ConsecutiveWins  Season Opposition_Others       Country        Ground  \\\n",
       "0                0  Summer       New Zealand   New Zealand    Wellington   \n",
       "1                0  Summer       New Zealand  South Africa    Queenstown   \n",
       "2                0  Summer       New Zealand   New Zealand  Christchurch   \n",
       "3                1  Summer       New Zealand   New Zealand        Napier   \n",
       "4                2  Summer       New Zealand   New Zealand      Hamilton   \n",
       "..             ...     ...               ...           ...           ...   \n",
       "90               1  Summer         Sri Lanka      SriLanka    Hambantota   \n",
       "91               0  Summer         Sri Lanka      SriLanka      Dambulla   \n",
       "92               0  Spring         Australia           UAE       Sharjah   \n",
       "93               0  Spring         Australia           UAE   Dubai (DSC)   \n",
       "94               0  Spring         Australia           UAE     Abu Dhabi   \n",
       "\n",
       "   Home_Ground Day_Night PitchReport BattingFirst Combination Changed  Pak_Win  \n",
       "0           No       Yes      bouncy          Yes                   No      No  \n",
       "1           No        No      bouncy          Yes                   No      No  \n",
       "2           No       Yes      bouncy          Yes                   No     Yes  \n",
       "3           No       Yes      bouncy           No                   No     Yes  \n",
       "4           No       Yes      bouncy          Yes                   No     Yes  \n",
       "..         ...       ...         ...          ...                  ...     ...  \n",
       "90          No       Yes         dry           No                  NaN      No  \n",
       "91          No        No         dry          Yes                  NaN      No  \n",
       "92          No       Yes         dry           No                  NaN      No  \n",
       "93          No       Yes         dry          Yes                  NaN      No  \n",
       "94          No       Yes         dry           No                  NaN      No  \n",
       "\n",
       "[95 rows x 11 columns]"
      ]
     },
     "execution_count": 2,
     "metadata": {},
     "output_type": "execute_result"
    }
   ],
   "source": [
    "Cricket=pd.read_csv('./Cricket.csv')\n",
    "Cricket"
   ]
  },
  {
   "cell_type": "markdown",
   "metadata": {},
   "source": [
    "### Knowning data"
   ]
  },
  {
   "cell_type": "code",
   "execution_count": 3,
   "metadata": {},
   "outputs": [
    {
     "data": {
      "text/plain": [
       "(95, 11)"
      ]
     },
     "execution_count": 3,
     "metadata": {},
     "output_type": "execute_result"
    }
   ],
   "source": [
    "Cricket.shape"
   ]
  },
  {
   "cell_type": "code",
   "execution_count": 4,
   "metadata": {},
   "outputs": [
    {
     "data": {
      "text/html": [
       "<div>\n",
       "<style scoped>\n",
       "    .dataframe tbody tr th:only-of-type {\n",
       "        vertical-align: middle;\n",
       "    }\n",
       "\n",
       "    .dataframe tbody tr th {\n",
       "        vertical-align: top;\n",
       "    }\n",
       "\n",
       "    .dataframe thead th {\n",
       "        text-align: right;\n",
       "    }\n",
       "</style>\n",
       "<table border=\"1\" class=\"dataframe\">\n",
       "  <thead>\n",
       "    <tr style=\"text-align: right;\">\n",
       "      <th></th>\n",
       "      <th>ConsecutiveWins</th>\n",
       "      <th>Season</th>\n",
       "      <th>Opposition_Others</th>\n",
       "      <th>Country</th>\n",
       "      <th>Ground</th>\n",
       "      <th>Home_Ground</th>\n",
       "      <th>Day_Night</th>\n",
       "      <th>PitchReport</th>\n",
       "      <th>BattingFirst</th>\n",
       "      <th>Combination Changed</th>\n",
       "      <th>Pak_Win</th>\n",
       "    </tr>\n",
       "  </thead>\n",
       "  <tbody>\n",
       "    <tr>\n",
       "      <th>0</th>\n",
       "      <td>0</td>\n",
       "      <td>Summer</td>\n",
       "      <td>New Zealand</td>\n",
       "      <td>New Zealand</td>\n",
       "      <td>Wellington</td>\n",
       "      <td>No</td>\n",
       "      <td>Yes</td>\n",
       "      <td>bouncy</td>\n",
       "      <td>Yes</td>\n",
       "      <td>No</td>\n",
       "      <td>No</td>\n",
       "    </tr>\n",
       "    <tr>\n",
       "      <th>1</th>\n",
       "      <td>0</td>\n",
       "      <td>Summer</td>\n",
       "      <td>New Zealand</td>\n",
       "      <td>South Africa</td>\n",
       "      <td>Queenstown</td>\n",
       "      <td>No</td>\n",
       "      <td>No</td>\n",
       "      <td>bouncy</td>\n",
       "      <td>Yes</td>\n",
       "      <td>No</td>\n",
       "      <td>No</td>\n",
       "    </tr>\n",
       "    <tr>\n",
       "      <th>2</th>\n",
       "      <td>0</td>\n",
       "      <td>Summer</td>\n",
       "      <td>New Zealand</td>\n",
       "      <td>New Zealand</td>\n",
       "      <td>Christchurch</td>\n",
       "      <td>No</td>\n",
       "      <td>Yes</td>\n",
       "      <td>bouncy</td>\n",
       "      <td>Yes</td>\n",
       "      <td>No</td>\n",
       "      <td>Yes</td>\n",
       "    </tr>\n",
       "    <tr>\n",
       "      <th>3</th>\n",
       "      <td>1</td>\n",
       "      <td>Summer</td>\n",
       "      <td>New Zealand</td>\n",
       "      <td>New Zealand</td>\n",
       "      <td>Napier</td>\n",
       "      <td>No</td>\n",
       "      <td>Yes</td>\n",
       "      <td>bouncy</td>\n",
       "      <td>No</td>\n",
       "      <td>No</td>\n",
       "      <td>Yes</td>\n",
       "    </tr>\n",
       "    <tr>\n",
       "      <th>4</th>\n",
       "      <td>2</td>\n",
       "      <td>Summer</td>\n",
       "      <td>New Zealand</td>\n",
       "      <td>New Zealand</td>\n",
       "      <td>Hamilton</td>\n",
       "      <td>No</td>\n",
       "      <td>Yes</td>\n",
       "      <td>bouncy</td>\n",
       "      <td>Yes</td>\n",
       "      <td>No</td>\n",
       "      <td>Yes</td>\n",
       "    </tr>\n",
       "  </tbody>\n",
       "</table>\n",
       "</div>"
      ],
      "text/plain": [
       "  ConsecutiveWins  Season Opposition_Others       Country        Ground  \\\n",
       "0               0  Summer       New Zealand   New Zealand    Wellington   \n",
       "1               0  Summer       New Zealand  South Africa    Queenstown   \n",
       "2               0  Summer       New Zealand   New Zealand  Christchurch   \n",
       "3               1  Summer       New Zealand   New Zealand        Napier   \n",
       "4               2  Summer       New Zealand   New Zealand      Hamilton   \n",
       "\n",
       "  Home_Ground Day_Night PitchReport BattingFirst Combination Changed  Pak_Win  \n",
       "0          No       Yes      bouncy          Yes                   No      No  \n",
       "1          No        No      bouncy          Yes                   No      No  \n",
       "2          No       Yes      bouncy          Yes                   No     Yes  \n",
       "3          No       Yes      bouncy           No                   No     Yes  \n",
       "4          No       Yes      bouncy          Yes                   No     Yes  "
      ]
     },
     "execution_count": 4,
     "metadata": {},
     "output_type": "execute_result"
    }
   ],
   "source": [
    "Cricket.head()"
   ]
  },
  {
   "cell_type": "code",
   "execution_count": 5,
   "metadata": {},
   "outputs": [
    {
     "data": {
      "text/html": [
       "<div>\n",
       "<style scoped>\n",
       "    .dataframe tbody tr th:only-of-type {\n",
       "        vertical-align: middle;\n",
       "    }\n",
       "\n",
       "    .dataframe tbody tr th {\n",
       "        vertical-align: top;\n",
       "    }\n",
       "\n",
       "    .dataframe thead th {\n",
       "        text-align: right;\n",
       "    }\n",
       "</style>\n",
       "<table border=\"1\" class=\"dataframe\">\n",
       "  <thead>\n",
       "    <tr style=\"text-align: right;\">\n",
       "      <th></th>\n",
       "      <th>ConsecutiveWins</th>\n",
       "      <th>Season</th>\n",
       "      <th>Opposition_Others</th>\n",
       "      <th>Country</th>\n",
       "      <th>Ground</th>\n",
       "      <th>Home_Ground</th>\n",
       "      <th>Day_Night</th>\n",
       "      <th>PitchReport</th>\n",
       "      <th>BattingFirst</th>\n",
       "      <th>Combination Changed</th>\n",
       "      <th>Pak_Win</th>\n",
       "    </tr>\n",
       "  </thead>\n",
       "  <tbody>\n",
       "    <tr>\n",
       "      <th>90</th>\n",
       "      <td>1</td>\n",
       "      <td>Summer</td>\n",
       "      <td>Sri Lanka</td>\n",
       "      <td>SriLanka</td>\n",
       "      <td>Hambantota</td>\n",
       "      <td>No</td>\n",
       "      <td>Yes</td>\n",
       "      <td>dry</td>\n",
       "      <td>No</td>\n",
       "      <td>NaN</td>\n",
       "      <td>No</td>\n",
       "    </tr>\n",
       "    <tr>\n",
       "      <th>91</th>\n",
       "      <td>0</td>\n",
       "      <td>Summer</td>\n",
       "      <td>Sri Lanka</td>\n",
       "      <td>SriLanka</td>\n",
       "      <td>Dambulla</td>\n",
       "      <td>No</td>\n",
       "      <td>No</td>\n",
       "      <td>dry</td>\n",
       "      <td>Yes</td>\n",
       "      <td>NaN</td>\n",
       "      <td>No</td>\n",
       "    </tr>\n",
       "    <tr>\n",
       "      <th>92</th>\n",
       "      <td>0</td>\n",
       "      <td>Spring</td>\n",
       "      <td>Australia</td>\n",
       "      <td>UAE</td>\n",
       "      <td>Sharjah</td>\n",
       "      <td>No</td>\n",
       "      <td>Yes</td>\n",
       "      <td>dry</td>\n",
       "      <td>No</td>\n",
       "      <td>NaN</td>\n",
       "      <td>No</td>\n",
       "    </tr>\n",
       "    <tr>\n",
       "      <th>93</th>\n",
       "      <td>0</td>\n",
       "      <td>Spring</td>\n",
       "      <td>Australia</td>\n",
       "      <td>UAE</td>\n",
       "      <td>Dubai (DSC)</td>\n",
       "      <td>No</td>\n",
       "      <td>Yes</td>\n",
       "      <td>dry</td>\n",
       "      <td>Yes</td>\n",
       "      <td>NaN</td>\n",
       "      <td>No</td>\n",
       "    </tr>\n",
       "    <tr>\n",
       "      <th>94</th>\n",
       "      <td>0</td>\n",
       "      <td>Spring</td>\n",
       "      <td>Australia</td>\n",
       "      <td>UAE</td>\n",
       "      <td>Abu Dhabi</td>\n",
       "      <td>No</td>\n",
       "      <td>Yes</td>\n",
       "      <td>dry</td>\n",
       "      <td>No</td>\n",
       "      <td>NaN</td>\n",
       "      <td>No</td>\n",
       "    </tr>\n",
       "  </tbody>\n",
       "</table>\n",
       "</div>"
      ],
      "text/plain": [
       "   ConsecutiveWins  Season Opposition_Others   Country       Ground  \\\n",
       "90               1  Summer         Sri Lanka  SriLanka   Hambantota   \n",
       "91               0  Summer         Sri Lanka  SriLanka     Dambulla   \n",
       "92               0  Spring         Australia       UAE      Sharjah   \n",
       "93               0  Spring         Australia       UAE  Dubai (DSC)   \n",
       "94               0  Spring         Australia       UAE    Abu Dhabi   \n",
       "\n",
       "   Home_Ground Day_Night PitchReport BattingFirst Combination Changed  Pak_Win  \n",
       "90          No       Yes         dry           No                  NaN      No  \n",
       "91          No        No         dry          Yes                  NaN      No  \n",
       "92          No       Yes         dry           No                  NaN      No  \n",
       "93          No       Yes         dry          Yes                  NaN      No  \n",
       "94          No       Yes         dry           No                  NaN      No  "
      ]
     },
     "execution_count": 5,
     "metadata": {},
     "output_type": "execute_result"
    }
   ],
   "source": [
    "Cricket.tail()"
   ]
  },
  {
   "cell_type": "code",
   "execution_count": 6,
   "metadata": {},
   "outputs": [
    {
     "data": {
      "text/plain": [
       "Index(['ConsecutiveWins', 'Season', 'Opposition_Others', 'Country', 'Ground',\n",
       "       'Home_Ground', 'Day_Night', 'PitchReport', 'BattingFirst',\n",
       "       'Combination Changed ', 'Pak_Win'],\n",
       "      dtype='object')"
      ]
     },
     "execution_count": 6,
     "metadata": {},
     "output_type": "execute_result"
    }
   ],
   "source": [
    "Cricket.columns.unique()"
   ]
  },
  {
   "cell_type": "code",
   "execution_count": 7,
   "metadata": {},
   "outputs": [
    {
     "data": {
      "text/html": [
       "<div>\n",
       "<style scoped>\n",
       "    .dataframe tbody tr th:only-of-type {\n",
       "        vertical-align: middle;\n",
       "    }\n",
       "\n",
       "    .dataframe tbody tr th {\n",
       "        vertical-align: top;\n",
       "    }\n",
       "\n",
       "    .dataframe thead th {\n",
       "        text-align: right;\n",
       "    }\n",
       "</style>\n",
       "<table border=\"1\" class=\"dataframe\">\n",
       "  <thead>\n",
       "    <tr style=\"text-align: right;\">\n",
       "      <th></th>\n",
       "      <th>ConsecutiveWins</th>\n",
       "      <th>Season</th>\n",
       "      <th>Opposition_Others</th>\n",
       "      <th>Country</th>\n",
       "      <th>Ground</th>\n",
       "      <th>Home_Ground</th>\n",
       "      <th>Day_Night</th>\n",
       "      <th>PitchReport</th>\n",
       "      <th>BattingFirst</th>\n",
       "      <th>Combination Changed</th>\n",
       "      <th>Pak_Win</th>\n",
       "    </tr>\n",
       "  </thead>\n",
       "  <tbody>\n",
       "    <tr>\n",
       "      <th>count</th>\n",
       "      <td>95</td>\n",
       "      <td>94</td>\n",
       "      <td>94</td>\n",
       "      <td>95</td>\n",
       "      <td>95</td>\n",
       "      <td>94</td>\n",
       "      <td>95</td>\n",
       "      <td>95</td>\n",
       "      <td>94</td>\n",
       "      <td>12</td>\n",
       "      <td>94</td>\n",
       "    </tr>\n",
       "    <tr>\n",
       "      <th>unique</th>\n",
       "      <td>10</td>\n",
       "      <td>4</td>\n",
       "      <td>10</td>\n",
       "      <td>10</td>\n",
       "      <td>37</td>\n",
       "      <td>1</td>\n",
       "      <td>2</td>\n",
       "      <td>6</td>\n",
       "      <td>2</td>\n",
       "      <td>2</td>\n",
       "      <td>4</td>\n",
       "    </tr>\n",
       "    <tr>\n",
       "      <th>top</th>\n",
       "      <td>0</td>\n",
       "      <td>Spring</td>\n",
       "      <td>Sri Lanka</td>\n",
       "      <td>UAE</td>\n",
       "      <td>Dhaka</td>\n",
       "      <td>No</td>\n",
       "      <td>Yes</td>\n",
       "      <td>dry</td>\n",
       "      <td>No</td>\n",
       "      <td>No</td>\n",
       "      <td>Yes</td>\n",
       "    </tr>\n",
       "    <tr>\n",
       "      <th>freq</th>\n",
       "      <td>43</td>\n",
       "      <td>35</td>\n",
       "      <td>22</td>\n",
       "      <td>26</td>\n",
       "      <td>10</td>\n",
       "      <td>94</td>\n",
       "      <td>60</td>\n",
       "      <td>39</td>\n",
       "      <td>47</td>\n",
       "      <td>9</td>\n",
       "      <td>49</td>\n",
       "    </tr>\n",
       "  </tbody>\n",
       "</table>\n",
       "</div>"
      ],
      "text/plain": [
       "       ConsecutiveWins  Season Opposition_Others Country Ground Home_Ground  \\\n",
       "count               95      94                94      95     95          94   \n",
       "unique              10       4                10      10     37           1   \n",
       "top                  0  Spring         Sri Lanka     UAE  Dhaka          No   \n",
       "freq                43      35                22      26     10          94   \n",
       "\n",
       "       Day_Night PitchReport BattingFirst Combination Changed  Pak_Win  \n",
       "count         95          95           94                   12      94  \n",
       "unique         2           6            2                    2       4  \n",
       "top          Yes         dry           No                   No     Yes  \n",
       "freq          60          39           47                    9      49  "
      ]
     },
     "execution_count": 7,
     "metadata": {},
     "output_type": "execute_result"
    }
   ],
   "source": [
    "Cricket.describe()"
   ]
  },
  {
   "cell_type": "code",
   "execution_count": 8,
   "metadata": {},
   "outputs": [
    {
     "name": "stdout",
     "output_type": "stream",
     "text": [
      "<class 'pandas.core.frame.DataFrame'>\n",
      "RangeIndex: 95 entries, 0 to 94\n",
      "Data columns (total 11 columns):\n",
      " #   Column                Non-Null Count  Dtype \n",
      "---  ------                --------------  ----- \n",
      " 0   ConsecutiveWins       95 non-null     object\n",
      " 1   Season                94 non-null     object\n",
      " 2   Opposition_Others     94 non-null     object\n",
      " 3   Country               95 non-null     object\n",
      " 4   Ground                95 non-null     object\n",
      " 5   Home_Ground           94 non-null     object\n",
      " 6   Day_Night             95 non-null     object\n",
      " 7   PitchReport           95 non-null     object\n",
      " 8   BattingFirst          94 non-null     object\n",
      " 9   Combination Changed   12 non-null     object\n",
      " 10  Pak_Win               94 non-null     object\n",
      "dtypes: object(11)\n",
      "memory usage: 8.3+ KB\n"
     ]
    }
   ],
   "source": [
    "Cricket.info()"
   ]
  },
  {
   "cell_type": "markdown",
   "metadata": {},
   "source": [
    "### 1.Renaming Columns"
   ]
  },
  {
   "cell_type": "code",
   "execution_count": 9,
   "metadata": {},
   "outputs": [],
   "source": [
    "Cricket.rename(columns={'ConsecutiveWins':'Consecutive_Wins','PitchReport':'Pitch_Report','BattingFirst':'Batting_First','Combination Changed':'Combination_Changed'},inplace=True)"
   ]
  },
  {
   "cell_type": "code",
   "execution_count": 10,
   "metadata": {},
   "outputs": [
    {
     "data": {
      "text/html": [
       "<div>\n",
       "<style scoped>\n",
       "    .dataframe tbody tr th:only-of-type {\n",
       "        vertical-align: middle;\n",
       "    }\n",
       "\n",
       "    .dataframe tbody tr th {\n",
       "        vertical-align: top;\n",
       "    }\n",
       "\n",
       "    .dataframe thead th {\n",
       "        text-align: right;\n",
       "    }\n",
       "</style>\n",
       "<table border=\"1\" class=\"dataframe\">\n",
       "  <thead>\n",
       "    <tr style=\"text-align: right;\">\n",
       "      <th></th>\n",
       "      <th>Consecutive_Wins</th>\n",
       "      <th>Season</th>\n",
       "      <th>Opposition_Others</th>\n",
       "      <th>Country</th>\n",
       "      <th>Ground</th>\n",
       "      <th>Home_Ground</th>\n",
       "      <th>Day_Night</th>\n",
       "      <th>Pitch_Report</th>\n",
       "      <th>Batting_First</th>\n",
       "      <th>Combination Changed</th>\n",
       "      <th>Pak_Win</th>\n",
       "    </tr>\n",
       "  </thead>\n",
       "  <tbody>\n",
       "    <tr>\n",
       "      <th>0</th>\n",
       "      <td>0</td>\n",
       "      <td>Summer</td>\n",
       "      <td>New Zealand</td>\n",
       "      <td>New Zealand</td>\n",
       "      <td>Wellington</td>\n",
       "      <td>No</td>\n",
       "      <td>Yes</td>\n",
       "      <td>bouncy</td>\n",
       "      <td>Yes</td>\n",
       "      <td>No</td>\n",
       "      <td>No</td>\n",
       "    </tr>\n",
       "    <tr>\n",
       "      <th>1</th>\n",
       "      <td>0</td>\n",
       "      <td>Summer</td>\n",
       "      <td>New Zealand</td>\n",
       "      <td>South Africa</td>\n",
       "      <td>Queenstown</td>\n",
       "      <td>No</td>\n",
       "      <td>No</td>\n",
       "      <td>bouncy</td>\n",
       "      <td>Yes</td>\n",
       "      <td>No</td>\n",
       "      <td>No</td>\n",
       "    </tr>\n",
       "    <tr>\n",
       "      <th>2</th>\n",
       "      <td>0</td>\n",
       "      <td>Summer</td>\n",
       "      <td>New Zealand</td>\n",
       "      <td>New Zealand</td>\n",
       "      <td>Christchurch</td>\n",
       "      <td>No</td>\n",
       "      <td>Yes</td>\n",
       "      <td>bouncy</td>\n",
       "      <td>Yes</td>\n",
       "      <td>No</td>\n",
       "      <td>Yes</td>\n",
       "    </tr>\n",
       "    <tr>\n",
       "      <th>3</th>\n",
       "      <td>1</td>\n",
       "      <td>Summer</td>\n",
       "      <td>New Zealand</td>\n",
       "      <td>New Zealand</td>\n",
       "      <td>Napier</td>\n",
       "      <td>No</td>\n",
       "      <td>Yes</td>\n",
       "      <td>bouncy</td>\n",
       "      <td>No</td>\n",
       "      <td>No</td>\n",
       "      <td>Yes</td>\n",
       "    </tr>\n",
       "    <tr>\n",
       "      <th>4</th>\n",
       "      <td>2</td>\n",
       "      <td>Summer</td>\n",
       "      <td>New Zealand</td>\n",
       "      <td>New Zealand</td>\n",
       "      <td>Hamilton</td>\n",
       "      <td>No</td>\n",
       "      <td>Yes</td>\n",
       "      <td>bouncy</td>\n",
       "      <td>Yes</td>\n",
       "      <td>No</td>\n",
       "      <td>Yes</td>\n",
       "    </tr>\n",
       "    <tr>\n",
       "      <th>...</th>\n",
       "      <td>...</td>\n",
       "      <td>...</td>\n",
       "      <td>...</td>\n",
       "      <td>...</td>\n",
       "      <td>...</td>\n",
       "      <td>...</td>\n",
       "      <td>...</td>\n",
       "      <td>...</td>\n",
       "      <td>...</td>\n",
       "      <td>...</td>\n",
       "      <td>...</td>\n",
       "    </tr>\n",
       "    <tr>\n",
       "      <th>90</th>\n",
       "      <td>1</td>\n",
       "      <td>Summer</td>\n",
       "      <td>Sri Lanka</td>\n",
       "      <td>SriLanka</td>\n",
       "      <td>Hambantota</td>\n",
       "      <td>No</td>\n",
       "      <td>Yes</td>\n",
       "      <td>dry</td>\n",
       "      <td>No</td>\n",
       "      <td>NaN</td>\n",
       "      <td>No</td>\n",
       "    </tr>\n",
       "    <tr>\n",
       "      <th>91</th>\n",
       "      <td>0</td>\n",
       "      <td>Summer</td>\n",
       "      <td>Sri Lanka</td>\n",
       "      <td>SriLanka</td>\n",
       "      <td>Dambulla</td>\n",
       "      <td>No</td>\n",
       "      <td>No</td>\n",
       "      <td>dry</td>\n",
       "      <td>Yes</td>\n",
       "      <td>NaN</td>\n",
       "      <td>No</td>\n",
       "    </tr>\n",
       "    <tr>\n",
       "      <th>92</th>\n",
       "      <td>0</td>\n",
       "      <td>Spring</td>\n",
       "      <td>Australia</td>\n",
       "      <td>UAE</td>\n",
       "      <td>Sharjah</td>\n",
       "      <td>No</td>\n",
       "      <td>Yes</td>\n",
       "      <td>dry</td>\n",
       "      <td>No</td>\n",
       "      <td>NaN</td>\n",
       "      <td>No</td>\n",
       "    </tr>\n",
       "    <tr>\n",
       "      <th>93</th>\n",
       "      <td>0</td>\n",
       "      <td>Spring</td>\n",
       "      <td>Australia</td>\n",
       "      <td>UAE</td>\n",
       "      <td>Dubai (DSC)</td>\n",
       "      <td>No</td>\n",
       "      <td>Yes</td>\n",
       "      <td>dry</td>\n",
       "      <td>Yes</td>\n",
       "      <td>NaN</td>\n",
       "      <td>No</td>\n",
       "    </tr>\n",
       "    <tr>\n",
       "      <th>94</th>\n",
       "      <td>0</td>\n",
       "      <td>Spring</td>\n",
       "      <td>Australia</td>\n",
       "      <td>UAE</td>\n",
       "      <td>Abu Dhabi</td>\n",
       "      <td>No</td>\n",
       "      <td>Yes</td>\n",
       "      <td>dry</td>\n",
       "      <td>No</td>\n",
       "      <td>NaN</td>\n",
       "      <td>No</td>\n",
       "    </tr>\n",
       "  </tbody>\n",
       "</table>\n",
       "<p>95 rows × 11 columns</p>\n",
       "</div>"
      ],
      "text/plain": [
       "   Consecutive_Wins  Season Opposition_Others       Country        Ground  \\\n",
       "0                 0  Summer       New Zealand   New Zealand    Wellington   \n",
       "1                 0  Summer       New Zealand  South Africa    Queenstown   \n",
       "2                 0  Summer       New Zealand   New Zealand  Christchurch   \n",
       "3                 1  Summer       New Zealand   New Zealand        Napier   \n",
       "4                 2  Summer       New Zealand   New Zealand      Hamilton   \n",
       "..              ...     ...               ...           ...           ...   \n",
       "90                1  Summer         Sri Lanka      SriLanka    Hambantota   \n",
       "91                0  Summer         Sri Lanka      SriLanka      Dambulla   \n",
       "92                0  Spring         Australia           UAE       Sharjah   \n",
       "93                0  Spring         Australia           UAE   Dubai (DSC)   \n",
       "94                0  Spring         Australia           UAE     Abu Dhabi   \n",
       "\n",
       "   Home_Ground Day_Night Pitch_Report Batting_First Combination Changed   \\\n",
       "0           No       Yes       bouncy           Yes                   No   \n",
       "1           No        No       bouncy           Yes                   No   \n",
       "2           No       Yes       bouncy           Yes                   No   \n",
       "3           No       Yes       bouncy            No                   No   \n",
       "4           No       Yes       bouncy           Yes                   No   \n",
       "..         ...       ...          ...           ...                  ...   \n",
       "90          No       Yes          dry            No                  NaN   \n",
       "91          No        No          dry           Yes                  NaN   \n",
       "92          No       Yes          dry            No                  NaN   \n",
       "93          No       Yes          dry           Yes                  NaN   \n",
       "94          No       Yes          dry            No                  NaN   \n",
       "\n",
       "   Pak_Win  \n",
       "0       No  \n",
       "1       No  \n",
       "2      Yes  \n",
       "3      Yes  \n",
       "4      Yes  \n",
       "..     ...  \n",
       "90      No  \n",
       "91      No  \n",
       "92      No  \n",
       "93      No  \n",
       "94      No  \n",
       "\n",
       "[95 rows x 11 columns]"
      ]
     },
     "execution_count": 10,
     "metadata": {},
     "output_type": "execute_result"
    }
   ],
   "source": [
    "Cricket"
   ]
  },
  {
   "cell_type": "markdown",
   "metadata": {},
   "source": [
    "### 2.Checking for Null Values "
   ]
  },
  {
   "cell_type": "code",
   "execution_count": 11,
   "metadata": {},
   "outputs": [
    {
     "data": {
      "text/plain": [
       "Consecutive_Wins         0\n",
       "Season                   1\n",
       "Opposition_Others        1\n",
       "Country                  0\n",
       "Ground                   0\n",
       "Home_Ground              1\n",
       "Day_Night                0\n",
       "Pitch_Report             0\n",
       "Batting_First            1\n",
       "Combination Changed     83\n",
       "Pak_Win                  1\n",
       "dtype: int64"
      ]
     },
     "execution_count": 11,
     "metadata": {},
     "output_type": "execute_result"
    }
   ],
   "source": [
    "Cricket.isnull().sum()"
   ]
  },
  {
   "cell_type": "markdown",
   "metadata": {},
   "source": [
    "####  Dropping records if all the values are NaN"
   ]
  },
  {
   "cell_type": "code",
   "execution_count": 15,
   "metadata": {},
   "outputs": [],
   "source": [
    "Cricket.dropna(how='any', subset=['Season','Opposition_Others','Home_Ground','Batting_First','Pak_Win'], inplace=True)"
   ]
  },
  {
   "cell_type": "code",
   "execution_count": 16,
   "metadata": {},
   "outputs": [
    {
     "data": {
      "text/plain": [
       "(93, 10)"
      ]
     },
     "execution_count": 16,
     "metadata": {},
     "output_type": "execute_result"
    }
   ],
   "source": [
    "Cricket.shape"
   ]
  },
  {
   "cell_type": "code",
   "execution_count": 17,
   "metadata": {},
   "outputs": [],
   "source": [
    "Cricket.reset_index(drop=True, inplace=True)\n"
   ]
  },
  {
   "cell_type": "code",
   "execution_count": 18,
   "metadata": {},
   "outputs": [
    {
     "data": {
      "text/html": [
       "<div>\n",
       "<style scoped>\n",
       "    .dataframe tbody tr th:only-of-type {\n",
       "        vertical-align: middle;\n",
       "    }\n",
       "\n",
       "    .dataframe tbody tr th {\n",
       "        vertical-align: top;\n",
       "    }\n",
       "\n",
       "    .dataframe thead th {\n",
       "        text-align: right;\n",
       "    }\n",
       "</style>\n",
       "<table border=\"1\" class=\"dataframe\">\n",
       "  <thead>\n",
       "    <tr style=\"text-align: right;\">\n",
       "      <th></th>\n",
       "      <th>Consecutive_Wins</th>\n",
       "      <th>Season</th>\n",
       "      <th>Opposition_Others</th>\n",
       "      <th>Country</th>\n",
       "      <th>Ground</th>\n",
       "      <th>Home_Ground</th>\n",
       "      <th>Day_Night</th>\n",
       "      <th>Pitch_Report</th>\n",
       "      <th>Batting_First</th>\n",
       "      <th>Pak_Win</th>\n",
       "    </tr>\n",
       "  </thead>\n",
       "  <tbody>\n",
       "    <tr>\n",
       "      <th>0</th>\n",
       "      <td>0</td>\n",
       "      <td>Summer</td>\n",
       "      <td>New Zealand</td>\n",
       "      <td>New Zealand</td>\n",
       "      <td>Wellington</td>\n",
       "      <td>No</td>\n",
       "      <td>Yes</td>\n",
       "      <td>bouncy</td>\n",
       "      <td>Yes</td>\n",
       "      <td>No</td>\n",
       "    </tr>\n",
       "    <tr>\n",
       "      <th>1</th>\n",
       "      <td>0</td>\n",
       "      <td>Summer</td>\n",
       "      <td>New Zealand</td>\n",
       "      <td>South Africa</td>\n",
       "      <td>Queenstown</td>\n",
       "      <td>No</td>\n",
       "      <td>No</td>\n",
       "      <td>bouncy</td>\n",
       "      <td>Yes</td>\n",
       "      <td>No</td>\n",
       "    </tr>\n",
       "    <tr>\n",
       "      <th>2</th>\n",
       "      <td>0</td>\n",
       "      <td>Summer</td>\n",
       "      <td>New Zealand</td>\n",
       "      <td>New Zealand</td>\n",
       "      <td>Christchurch</td>\n",
       "      <td>No</td>\n",
       "      <td>Yes</td>\n",
       "      <td>bouncy</td>\n",
       "      <td>Yes</td>\n",
       "      <td>Yes</td>\n",
       "    </tr>\n",
       "    <tr>\n",
       "      <th>3</th>\n",
       "      <td>1</td>\n",
       "      <td>Summer</td>\n",
       "      <td>New Zealand</td>\n",
       "      <td>New Zealand</td>\n",
       "      <td>Napier</td>\n",
       "      <td>No</td>\n",
       "      <td>Yes</td>\n",
       "      <td>bouncy</td>\n",
       "      <td>No</td>\n",
       "      <td>Yes</td>\n",
       "    </tr>\n",
       "    <tr>\n",
       "      <th>4</th>\n",
       "      <td>2</td>\n",
       "      <td>Summer</td>\n",
       "      <td>New Zealand</td>\n",
       "      <td>New Zealand</td>\n",
       "      <td>Hamilton</td>\n",
       "      <td>No</td>\n",
       "      <td>Yes</td>\n",
       "      <td>bouncy</td>\n",
       "      <td>Yes</td>\n",
       "      <td>Yes</td>\n",
       "    </tr>\n",
       "  </tbody>\n",
       "</table>\n",
       "</div>"
      ],
      "text/plain": [
       "  Consecutive_Wins  Season Opposition_Others       Country        Ground  \\\n",
       "0                0  Summer       New Zealand   New Zealand    Wellington   \n",
       "1                0  Summer       New Zealand  South Africa    Queenstown   \n",
       "2                0  Summer       New Zealand   New Zealand  Christchurch   \n",
       "3                1  Summer       New Zealand   New Zealand        Napier   \n",
       "4                2  Summer       New Zealand   New Zealand      Hamilton   \n",
       "\n",
       "  Home_Ground Day_Night Pitch_Report Batting_First Pak_Win  \n",
       "0          No       Yes       bouncy           Yes      No  \n",
       "1          No        No       bouncy           Yes      No  \n",
       "2          No       Yes       bouncy           Yes     Yes  \n",
       "3          No       Yes       bouncy            No     Yes  \n",
       "4          No       Yes       bouncy           Yes     Yes  "
      ]
     },
     "execution_count": 18,
     "metadata": {},
     "output_type": "execute_result"
    }
   ],
   "source": [
    "Cricket.head()"
   ]
  },
  {
   "cell_type": "code",
   "execution_count": 19,
   "metadata": {},
   "outputs": [
    {
     "data": {
      "text/plain": [
       "Consecutive_Wins     0\n",
       "Season               0\n",
       "Opposition_Others    0\n",
       "Country              0\n",
       "Ground               0\n",
       "Home_Ground          0\n",
       "Day_Night            0\n",
       "Pitch_Report         0\n",
       "Batting_First        0\n",
       "Pak_Win              0\n",
       "dtype: int64"
      ]
     },
     "execution_count": 19,
     "metadata": {},
     "output_type": "execute_result"
    }
   ],
   "source": [
    "Cricket.isnull().sum()"
   ]
  },
  {
   "cell_type": "markdown",
   "metadata": {},
   "source": [
    "# 3. Changing Data Types "
   ]
  },
  {
   "cell_type": "code",
   "execution_count": 20,
   "metadata": {},
   "outputs": [
    {
     "data": {
      "text/plain": [
       "Consecutive_Wins     object\n",
       "Season               object\n",
       "Opposition_Others    object\n",
       "Country              object\n",
       "Ground               object\n",
       "Home_Ground          object\n",
       "Day_Night            object\n",
       "Pitch_Report         object\n",
       "Batting_First        object\n",
       "Pak_Win              object\n",
       "dtype: object"
      ]
     },
     "execution_count": 20,
     "metadata": {},
     "output_type": "execute_result"
    }
   ],
   "source": [
    "Cricket.dtypes"
   ]
  },
  {
   "cell_type": "code",
   "execution_count": 21,
   "metadata": {},
   "outputs": [],
   "source": [
    "Cricket['Consecutive_Wins']=pd.to_numeric(Cricket['Consecutive_Wins'],errors='coerce')"
   ]
  },
  {
   "cell_type": "code",
   "execution_count": 22,
   "metadata": {},
   "outputs": [
    {
     "data": {
      "text/plain": [
       "Consecutive_Wins     float64\n",
       "Season                object\n",
       "Opposition_Others     object\n",
       "Country               object\n",
       "Ground                object\n",
       "Home_Ground           object\n",
       "Day_Night             object\n",
       "Pitch_Report          object\n",
       "Batting_First         object\n",
       "Pak_Win               object\n",
       "dtype: object"
      ]
     },
     "execution_count": 22,
     "metadata": {},
     "output_type": "execute_result"
    }
   ],
   "source": [
    "Cricket.dtypes"
   ]
  },
  {
   "cell_type": "markdown",
   "metadata": {},
   "source": [
    "### 4.Dealing with Incorrect Data "
   ]
  },
  {
   "cell_type": "code",
   "execution_count": 23,
   "metadata": {},
   "outputs": [
    {
     "data": {
      "text/plain": [
       "Consecutive_Wins     2\n",
       "Season               0\n",
       "Opposition_Others    0\n",
       "Country              0\n",
       "Ground               0\n",
       "Home_Ground          0\n",
       "Day_Night            0\n",
       "Pitch_Report         0\n",
       "Batting_First        0\n",
       "Pak_Win              0\n",
       "dtype: int64"
      ]
     },
     "execution_count": 23,
     "metadata": {},
     "output_type": "execute_result"
    }
   ],
   "source": [
    "Cricket.isnull().sum()"
   ]
  },
  {
   "cell_type": "code",
   "execution_count": 24,
   "metadata": {},
   "outputs": [],
   "source": [
    "cnt=0\n",
    "for row in cricket_data['Pak_Win']:\n",
    "    try:\n",
    "        int(row)\n",
    "        cricket_data.loc[cnt, 'Pak_Win']=np.nan\n",
    "    except ValueError:\n",
    "        pass\n",
    "    cnt+=1"
   ]
  },
  {
   "cell_type": "code",
   "execution_count": 38,
   "metadata": {},
   "outputs": [],
   "source": [
    "Cricket['Pak_Win'].replace({\n",
    "    'ABC':'Yes'\n",
    "\n",
    "    \n",
    "},inplace=True)"
   ]
  },
  {
   "cell_type": "markdown",
   "metadata": {},
   "source": [
    "### 5. Delete Missing values"
   ]
  },
  {
   "cell_type": "code",
   "execution_count": 26,
   "metadata": {},
   "outputs": [],
   "source": [
    "Cricket.dropna(inplace=True)\n",
    "Cricket.reset_index(drop=True, inplace=True)"
   ]
  },
  {
   "cell_type": "code",
   "execution_count": 27,
   "metadata": {},
   "outputs": [
    {
     "data": {
      "text/plain": [
       "(90, 10)"
      ]
     },
     "execution_count": 27,
     "metadata": {},
     "output_type": "execute_result"
    }
   ],
   "source": [
    "Cricket.shape"
   ]
  },
  {
   "cell_type": "code",
   "execution_count": 28,
   "metadata": {},
   "outputs": [
    {
     "data": {
      "text/plain": [
       "Consecutive_Wins     0\n",
       "Season               0\n",
       "Opposition_Others    0\n",
       "Country              0\n",
       "Ground               0\n",
       "Home_Ground          0\n",
       "Day_Night            0\n",
       "Pitch_Report         0\n",
       "Batting_First        0\n",
       "Pak_Win              0\n",
       "dtype: int64"
      ]
     },
     "execution_count": 28,
     "metadata": {},
     "output_type": "execute_result"
    }
   ],
   "source": [
    "Cricket.isnull().sum()"
   ]
  },
  {
   "cell_type": "markdown",
   "metadata": {},
   "source": [
    "### Univariate Analysis\n",
    "### Histograms of dfifferent features"
   ]
  },
  {
   "cell_type": "code",
   "execution_count": 29,
   "metadata": {},
   "outputs": [
    {
     "data": {
      "image/png": "[encoded data removed]",
      "text/plain": [
       "<Figure size 432x288 with 1 Axes>"
      ]
     },
     "metadata": {
      "needs_background": "light"
     },
     "output_type": "display_data"
    }
   ],
   "source": [
    "plt.hist(Cricket.Consecutive_Wins)\n",
    "plt.title('CONSECUTIVE WINS')\n",
    "plt.ylabel('CONSECUTIVE WINS Histogram')\n",
    "plt.show()"
   ]
  },
  {
   "cell_type": "code",
   "execution_count": 30,
   "metadata": {},
   "outputs": [
    {
     "data": {
      "image/png": "[encoded data removed]",
      "text/plain": [
       "<Figure size 432x288 with 1 Axes>"
      ]
     },
     "metadata": {
      "needs_background": "light"
     },
     "output_type": "display_data"
    }
   ],
   "source": [
    "Cricket['Season'].value_counts().plot(kind='bar')\n",
    "plt.title('Seasons')\n",
    "plt.ylabel('Seasons Histogram')\n",
    "plt.show()"
   ]
  },
  {
   "cell_type": "code",
   "execution_count": 31,
   "metadata": {},
   "outputs": [
    {
     "data": {
      "image/png": "[encoded data removed]",
      "text/plain": [
       "<Figure size 432x288 with 1 Axes>"
      ]
     },
     "metadata": {
      "needs_background": "light"
     },
     "output_type": "display_data"
    }
   ],
   "source": [
    "Cricket['Opposition_Others'].value_counts().plot(kind='bar')\n",
    "plt.title('Opposition_Others')\n",
    "plt.ylabel('Opposition_Others Histogram')\n",
    "plt.show()"
   ]
  },
  {
   "cell_type": "code",
   "execution_count": 32,
   "metadata": {},
   "outputs": [
    {
     "data": {
      "image/png": "[encoded data removed]",
      "text/plain": [
       "<Figure size 432x288 with 1 Axes>"
      ]
     },
     "metadata": {
      "needs_background": "light"
     },
     "output_type": "display_data"
    }
   ],
   "source": [
    "Cricket['Pak_Win'].value_counts().plot(kind='bar')\n",
    "plt.title('Pak_Win')\n",
    "plt.ylabel('Pak_Win Histogram')\n",
    "plt.show()"
   ]
  },
  {
   "cell_type": "code",
   "execution_count": 33,
   "metadata": {},
   "outputs": [
    {
     "data": {
      "image/png": "[encoded data removed]",
      "text/plain": [
       "<Figure size 432x288 with 1 Axes>"
      ]
     },
     "metadata": {
      "needs_background": "light"
     },
     "output_type": "display_data"
    }
   ],
   "source": [
    "Cricket['Country'].value_counts().plot(kind='bar')\n",
    "plt.title('Country')\n",
    "plt.ylabel('Country Histogram')\n",
    "plt.show()"
   ]
  },
  {
   "cell_type": "code",
   "execution_count": 34,
   "metadata": {},
   "outputs": [
    {
     "data": {
      "image/png": "[encoded data removed]",
      "text/plain": [
       "<Figure size 432x288 with 1 Axes>"
      ]
     },
     "metadata": {
      "needs_background": "light"
     },
     "output_type": "display_data"
    }
   ],
   "source": [
    "Cricket['Ground'].value_counts().plot(kind='bar')\n",
    "plt.title('Ground')\n",
    "plt.ylabel('Ground Histogram')\n",
    "plt.show()"
   ]
  },
  {
   "cell_type": "code",
   "execution_count": 37,
   "metadata": {},
   "outputs": [
    {
     "data": {
      "text/plain": [
       "<AxesSubplot:xlabel='Consecutive_Wins'>"
      ]
     },
     "execution_count": 37,
     "metadata": {},
     "output_type": "execute_result"
    },
    {
     "data": {
      "image/png": "[encoded data removed]",
      "text/plain": [
       "<Figure size 432x288 with 1 Axes>"
      ]
     },
     "metadata": {},
     "output_type": "display_data"
    }
   ],
   "source": [
    "sns.set_theme(style=\"whitegrid\")\n",
    "sns.boxplot(x=Cricket[\"Consecutive_Wins\"])"
   ]
  },
  {
   "cell_type": "code",
   "execution_count": 47,
   "metadata": {},
   "outputs": [
    {
     "data": {
      "image/png": "[encoded data removed]",
      "text/plain": [
       "<Figure size 432x288 with 1 Axes>"
      ]
     },
     "metadata": {},
     "output_type": "display_data"
    }
   ],
   "source": [
    "Cricket['Home_Ground'].value_counts().plot(kind='bar')\n",
    "plt.title('Home_Ground')\n",
    "plt.ylabel('Home_Ground Histogram')\n",
    "plt.show()"
   ]
  },
  {
   "cell_type": "markdown",
   "metadata": {},
   "source": [
    "# DATA QUALITY ISSUES\n",
    "I first changed the names of columns  then changed the data type of the column, then I removed those datasets which consisted of any missing value using dropna subset function. Further, through plotting graphs Incorrect values became more prominent so I  converted them using replace function."
   ]
  }
 ],
 "metadata": {
  "kernelspec": {
   "display_name": "Python 3",
   "language": "python",
   "name": "python3"
  },
  "language_info": {
   "codemirror_mode": {
    "name": "ipython",
    "version": 3
   },
   "file_extension": ".py",
   "mimetype": "text/x-python",
   "name": "python",
   "nbconvert_exporter": "python",
   "pygments_lexer": "ipython3",
   "version": "3.8.5"
  }
 },
 "nbformat": 4,
 "nbformat_minor": 4
}
